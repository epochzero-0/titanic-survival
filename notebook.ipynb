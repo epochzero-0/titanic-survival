{
 "cells": [
  {
   "cell_type": "markdown",
   "id": "1584d665",
   "metadata": {},
   "source": [
    "### Imports"
   ]
  },
  {
   "cell_type": "code",
   "execution_count": 154,
   "id": "a56549cd",
   "metadata": {},
   "outputs": [],
   "source": [
    "import pandas as pd \n",
    "import numpy as np\n",
    "import seaborn as sns\n",
    "import matplotlib.pyplot as plt"
   ]
  },
  {
   "cell_type": "markdown",
   "id": "b7660aba",
   "metadata": {},
   "source": [
    "### EDA"
   ]
  },
  {
   "cell_type": "markdown",
   "id": "79e3d490",
   "metadata": {},
   "source": [
    "#### Exploring Data"
   ]
  },
  {
   "cell_type": "code",
   "execution_count": null,
   "id": "b02f0346",
   "metadata": {},
   "outputs": [],
   "source": [
    "train_df = pd.read_csv(\"data/train.csv\")"
   ]
  },
  {
   "cell_type": "code",
   "execution_count": 156,
   "id": "9db2fb79",
   "metadata": {},
   "outputs": [
    {
     "data": {
      "text/html": [
       "<div>\n",
       "<style scoped>\n",
       "    .dataframe tbody tr th:only-of-type {\n",
       "        vertical-align: middle;\n",
       "    }\n",
       "\n",
       "    .dataframe tbody tr th {\n",
       "        vertical-align: top;\n",
       "    }\n",
       "\n",
       "    .dataframe thead th {\n",
       "        text-align: right;\n",
       "    }\n",
       "</style>\n",
       "<table border=\"1\" class=\"dataframe\">\n",
       "  <thead>\n",
       "    <tr style=\"text-align: right;\">\n",
       "      <th></th>\n",
       "      <th>PassengerId</th>\n",
       "      <th>Survived</th>\n",
       "      <th>Pclass</th>\n",
       "      <th>Name</th>\n",
       "      <th>Sex</th>\n",
       "      <th>Age</th>\n",
       "      <th>SibSp</th>\n",
       "      <th>Parch</th>\n",
       "      <th>Ticket</th>\n",
       "      <th>Fare</th>\n",
       "      <th>Cabin</th>\n",
       "      <th>Embarked</th>\n",
       "    </tr>\n",
       "  </thead>\n",
       "  <tbody>\n",
       "    <tr>\n",
       "      <th>538</th>\n",
       "      <td>539</td>\n",
       "      <td>0</td>\n",
       "      <td>3</td>\n",
       "      <td>Risien, Mr. Samuel Beard</td>\n",
       "      <td>male</td>\n",
       "      <td>NaN</td>\n",
       "      <td>0</td>\n",
       "      <td>0</td>\n",
       "      <td>364498</td>\n",
       "      <td>14.5000</td>\n",
       "      <td>NaN</td>\n",
       "      <td>S</td>\n",
       "    </tr>\n",
       "    <tr>\n",
       "      <th>879</th>\n",
       "      <td>880</td>\n",
       "      <td>1</td>\n",
       "      <td>1</td>\n",
       "      <td>Potter, Mrs. Thomas Jr (Lily Alexenia Wilson)</td>\n",
       "      <td>female</td>\n",
       "      <td>56.0</td>\n",
       "      <td>0</td>\n",
       "      <td>1</td>\n",
       "      <td>11767</td>\n",
       "      <td>83.1583</td>\n",
       "      <td>C50</td>\n",
       "      <td>C</td>\n",
       "    </tr>\n",
       "    <tr>\n",
       "      <th>756</th>\n",
       "      <td>757</td>\n",
       "      <td>0</td>\n",
       "      <td>3</td>\n",
       "      <td>Carlsson, Mr. August Sigfrid</td>\n",
       "      <td>male</td>\n",
       "      <td>28.0</td>\n",
       "      <td>0</td>\n",
       "      <td>0</td>\n",
       "      <td>350042</td>\n",
       "      <td>7.7958</td>\n",
       "      <td>NaN</td>\n",
       "      <td>S</td>\n",
       "    </tr>\n",
       "    <tr>\n",
       "      <th>351</th>\n",
       "      <td>352</td>\n",
       "      <td>0</td>\n",
       "      <td>1</td>\n",
       "      <td>Williams-Lambert, Mr. Fletcher Fellows</td>\n",
       "      <td>male</td>\n",
       "      <td>NaN</td>\n",
       "      <td>0</td>\n",
       "      <td>0</td>\n",
       "      <td>113510</td>\n",
       "      <td>35.0000</td>\n",
       "      <td>C128</td>\n",
       "      <td>S</td>\n",
       "    </tr>\n",
       "    <tr>\n",
       "      <th>679</th>\n",
       "      <td>680</td>\n",
       "      <td>1</td>\n",
       "      <td>1</td>\n",
       "      <td>Cardeza, Mr. Thomas Drake Martinez</td>\n",
       "      <td>male</td>\n",
       "      <td>36.0</td>\n",
       "      <td>0</td>\n",
       "      <td>1</td>\n",
       "      <td>PC 17755</td>\n",
       "      <td>512.3292</td>\n",
       "      <td>B51 B53 B55</td>\n",
       "      <td>C</td>\n",
       "    </tr>\n",
       "  </tbody>\n",
       "</table>\n",
       "</div>"
      ],
      "text/plain": [
       "     PassengerId  Survived  Pclass  \\\n",
       "538          539         0       3   \n",
       "879          880         1       1   \n",
       "756          757         0       3   \n",
       "351          352         0       1   \n",
       "679          680         1       1   \n",
       "\n",
       "                                              Name     Sex   Age  SibSp  \\\n",
       "538                       Risien, Mr. Samuel Beard    male   NaN      0   \n",
       "879  Potter, Mrs. Thomas Jr (Lily Alexenia Wilson)  female  56.0      0   \n",
       "756                   Carlsson, Mr. August Sigfrid    male  28.0      0   \n",
       "351         Williams-Lambert, Mr. Fletcher Fellows    male   NaN      0   \n",
       "679             Cardeza, Mr. Thomas Drake Martinez    male  36.0      0   \n",
       "\n",
       "     Parch    Ticket      Fare        Cabin Embarked  \n",
       "538      0    364498   14.5000          NaN        S  \n",
       "879      1     11767   83.1583          C50        C  \n",
       "756      0    350042    7.7958          NaN        S  \n",
       "351      0    113510   35.0000         C128        S  \n",
       "679      1  PC 17755  512.3292  B51 B53 B55        C  "
      ]
     },
     "execution_count": 156,
     "metadata": {},
     "output_type": "execute_result"
    }
   ],
   "source": [
    "train_df.sample(5)"
   ]
  },
  {
   "cell_type": "markdown",
   "id": "642d8d25",
   "metadata": {},
   "source": [
    "aim of EDA is to get:\n",
    "- number of rows\n",
    "- number of columns\n",
    "- what data type has been used \n",
    "- which column has how many non null values \n",
    "- find the total number of entries \n",
    "- can also the shape of your df using df.shape"
   ]
  },
  {
   "cell_type": "code",
   "execution_count": 157,
   "id": "e6feeb53",
   "metadata": {},
   "outputs": [
    {
     "name": "stdout",
     "output_type": "stream",
     "text": [
      "<class 'pandas.core.frame.DataFrame'>\n",
      "RangeIndex: 891 entries, 0 to 890\n",
      "Data columns (total 12 columns):\n",
      " #   Column       Non-Null Count  Dtype  \n",
      "---  ------       --------------  -----  \n",
      " 0   PassengerId  891 non-null    int64  \n",
      " 1   Survived     891 non-null    int64  \n",
      " 2   Pclass       891 non-null    int64  \n",
      " 3   Name         891 non-null    object \n",
      " 4   Sex          891 non-null    object \n",
      " 5   Age          714 non-null    float64\n",
      " 6   SibSp        891 non-null    int64  \n",
      " 7   Parch        891 non-null    int64  \n",
      " 8   Ticket       891 non-null    object \n",
      " 9   Fare         891 non-null    float64\n",
      " 10  Cabin        204 non-null    object \n",
      " 11  Embarked     889 non-null    object \n",
      "dtypes: float64(2), int64(5), object(5)\n",
      "memory usage: 83.7+ KB\n"
     ]
    }
   ],
   "source": [
    "train_df.info()"
   ]
  },
  {
   "cell_type": "markdown",
   "id": "d8e96caf",
   "metadata": {},
   "source": [
    "- in the training data, first thing i want to check what exactly is the proportion of people surviving to ppl dying \n",
    "- this is to see how biased our training data is because if number of survivors are significantly higher than number of ppl dying then the model will more likely predict someone to 1 than to 0 "
   ]
  },
  {
   "cell_type": "code",
   "execution_count": 158,
   "id": "39df28d1",
   "metadata": {},
   "outputs": [
    {
     "name": "stdout",
     "output_type": "stream",
     "text": [
      "alive: 342\n",
      "dead: 549\n",
      "ratio of dead to alive: 1.605263157894737\n"
     ]
    }
   ],
   "source": [
    "alive = train_df['Survived'].sum() # works because of 0 and 1, sum of all 1's is the total ppl survived\n",
    "print(\"alive:\", alive) \n",
    "\n",
    "# .count() will give number of non null values in each column of the survived data frame\n",
    "# train_df[train_df['Survived']==1].count()\n",
    "dead = train_df.shape[0] - train_df[train_df['Survived']==1].shape[0]\n",
    "print(\"dead:\",dead)\n",
    "print('ratio of dead to alive:', dead/alive) # for every 100 survivors, there were at least 160 dead "
   ]
  },
  {
   "cell_type": "markdown",
   "id": "9c09758b",
   "metadata": {},
   "source": [
    "- find how many null values you have in your dataset in each feature (column)"
   ]
  },
  {
   "cell_type": "code",
   "execution_count": 159,
   "id": "738aece6",
   "metadata": {},
   "outputs": [
    {
     "data": {
      "text/plain": [
       "PassengerId      0\n",
       "Survived         0\n",
       "Pclass           0\n",
       "Name             0\n",
       "Sex              0\n",
       "Age            177\n",
       "SibSp            0\n",
       "Parch            0\n",
       "Ticket           0\n",
       "Fare             0\n",
       "Cabin          687\n",
       "Embarked         2\n",
       "dtype: int64"
      ]
     },
     "execution_count": 159,
     "metadata": {},
     "output_type": "execute_result"
    }
   ],
   "source": [
    "train_df.isna().sum()\n",
    "# we see a lot of null values in age and cabin "
   ]
  },
  {
   "cell_type": "markdown",
   "id": "ed942875",
   "metadata": {},
   "source": [
    "#### Finding Patterns "
   ]
  },
  {
   "cell_type": "markdown",
   "id": "8da45a2f",
   "metadata": {},
   "source": [
    "now, there are ways you can deal with null values:\n",
    "- replace the null values with the median values \n",
    "- drop the rows which contain any null value (but don't do this unless you're absolutely sure that it doesn't impact predictions)\n",
    "\n",
    "so, before we do any dropping or filling, let's check how the varibales impact each other using a heatmap, our main concern would be how specifically are they related with survival, can also use pairplot i believe but let's stick with heatmap for now\n",
    "\n",
    "the purpose of doing this is to find hidden correlations or patterns within the data that may not be explicit"
   ]
  },
  {
   "cell_type": "code",
   "execution_count": 160,
   "id": "2505aa99",
   "metadata": {},
   "outputs": [
    {
     "data": {
      "text/html": [
       "<div>\n",
       "<style scoped>\n",
       "    .dataframe tbody tr th:only-of-type {\n",
       "        vertical-align: middle;\n",
       "    }\n",
       "\n",
       "    .dataframe tbody tr th {\n",
       "        vertical-align: top;\n",
       "    }\n",
       "\n",
       "    .dataframe thead th {\n",
       "        text-align: right;\n",
       "    }\n",
       "</style>\n",
       "<table border=\"1\" class=\"dataframe\">\n",
       "  <thead>\n",
       "    <tr style=\"text-align: right;\">\n",
       "      <th></th>\n",
       "      <th>PassengerId</th>\n",
       "      <th>Survived</th>\n",
       "      <th>Pclass</th>\n",
       "      <th>Age</th>\n",
       "      <th>SibSp</th>\n",
       "      <th>Parch</th>\n",
       "      <th>Fare</th>\n",
       "    </tr>\n",
       "  </thead>\n",
       "  <tbody>\n",
       "    <tr>\n",
       "      <th>0</th>\n",
       "      <td>1</td>\n",
       "      <td>0</td>\n",
       "      <td>3</td>\n",
       "      <td>22.0</td>\n",
       "      <td>1</td>\n",
       "      <td>0</td>\n",
       "      <td>7.2500</td>\n",
       "    </tr>\n",
       "    <tr>\n",
       "      <th>1</th>\n",
       "      <td>2</td>\n",
       "      <td>1</td>\n",
       "      <td>1</td>\n",
       "      <td>38.0</td>\n",
       "      <td>1</td>\n",
       "      <td>0</td>\n",
       "      <td>71.2833</td>\n",
       "    </tr>\n",
       "    <tr>\n",
       "      <th>2</th>\n",
       "      <td>3</td>\n",
       "      <td>1</td>\n",
       "      <td>3</td>\n",
       "      <td>26.0</td>\n",
       "      <td>0</td>\n",
       "      <td>0</td>\n",
       "      <td>7.9250</td>\n",
       "    </tr>\n",
       "    <tr>\n",
       "      <th>3</th>\n",
       "      <td>4</td>\n",
       "      <td>1</td>\n",
       "      <td>1</td>\n",
       "      <td>35.0</td>\n",
       "      <td>1</td>\n",
       "      <td>0</td>\n",
       "      <td>53.1000</td>\n",
       "    </tr>\n",
       "    <tr>\n",
       "      <th>4</th>\n",
       "      <td>5</td>\n",
       "      <td>0</td>\n",
       "      <td>3</td>\n",
       "      <td>35.0</td>\n",
       "      <td>0</td>\n",
       "      <td>0</td>\n",
       "      <td>8.0500</td>\n",
       "    </tr>\n",
       "  </tbody>\n",
       "</table>\n",
       "</div>"
      ],
      "text/plain": [
       "   PassengerId  Survived  Pclass   Age  SibSp  Parch     Fare\n",
       "0            1         0       3  22.0      1      0   7.2500\n",
       "1            2         1       1  38.0      1      0  71.2833\n",
       "2            3         1       3  26.0      0      0   7.9250\n",
       "3            4         1       1  35.0      1      0  53.1000\n",
       "4            5         0       3  35.0      0      0   8.0500"
      ]
     },
     "execution_count": 160,
     "metadata": {},
     "output_type": "execute_result"
    }
   ],
   "source": [
    "# before we plot a heatmap, we first eliminate non-numeric columns since they can't have a corrleation coefficient\n",
    "# we will use bar charts to see later \n",
    "train_df_mod = train_df.drop(columns=['Name', 'Sex', 'Ticket', 'Cabin', 'Embarked'])\n",
    "train_df_mod.head()"
   ]
  },
  {
   "cell_type": "code",
   "execution_count": 161,
   "id": "8a9f783c",
   "metadata": {},
   "outputs": [
    {
     "data": {
      "image/png": "[encoded data removed]",
      "text/plain": [
       "<Figure size 800x800 with 2 Axes>"
      ]
     },
     "metadata": {},
     "output_type": "display_data"
    }
   ],
   "source": [
    "plt.figure(figsize=(8,8), dpi=100) # you first create the fig, then give a title\n",
    "plt.title(\"Correlations between features\")\n",
    "\n",
    "# passenger id will also have no impact\n",
    "sns.heatmap(train_df_mod.drop(columns =['PassengerId']).corr(), annot=True) # annot=True gives the correlation coefficient \n",
    "plt.show()"
   ]
  },
  {
   "cell_type": "markdown",
   "id": "331ecfc3",
   "metadata": {},
   "source": [
    "- we don't really see any meaningful correlation of survival with the features used \n",
    "- but one thing is for sure that passenger class and fare will have a decent inverse relation because the more you pay, you get the higher class (lower numbered)\n",
    "- fare: 1st class > 2nd class > 3rd class\n",
    "- even age had almost no correlation with survival, all die alike (0.07)\n",
    "---\n",
    "- now, let's see how the columns we previously dropped affect survival\n",
    "- those columns are: **name, sex, ticket, cabin and embarked**\n",
    "- intuitively, name, ticket number and cabin seem to have very less chance of affecting someone's survival \n",
    "- but we will see it later "
   ]
  },
  {
   "cell_type": "markdown",
   "id": "0835628d",
   "metadata": {},
   "source": [
    "- now, let's see how sex and embarking destination affect survivor numbers \n",
    "- i mean, did ppl of particular age survive more or died more\n",
    "- or if more ppl from southampton died as compared to other boarding destinations\n",
    "- we can also filter out number of survivors based on boarding stations and sex so let's just start with that"
   ]
  },
  {
   "cell_type": "markdown",
   "id": "e23e7def",
   "metadata": {},
   "source": [
    "#### Correlation between Sex and Survival "
   ]
  },
  {
   "cell_type": "code",
   "execution_count": 162,
   "id": "6f605f68",
   "metadata": {},
   "outputs": [
    {
     "data": {
      "text/plain": [
       "(891, 2)"
      ]
     },
     "execution_count": 162,
     "metadata": {},
     "output_type": "execute_result"
    }
   ],
   "source": [
    "survival_sex = train_df[['Survived', 'Sex']]\n",
    "survival_sex.shape"
   ]
  },
  {
   "cell_type": "code",
   "execution_count": 163,
   "id": "f3e2de7d",
   "metadata": {},
   "outputs": [
    {
     "data": {
      "text/plain": [
       "Survived  Sex   \n",
       "0         female     81\n",
       "          male      468\n",
       "1         female    233\n",
       "          male      109\n",
       "dtype: int64"
      ]
     },
     "execution_count": 163,
     "metadata": {},
     "output_type": "execute_result"
    }
   ],
   "source": [
    "survival_sex.groupby(['Survived', 'Sex']).size()\n",
    "# when you run this, you get a pandas series with a multi level index, can check type using type()"
   ]
  },
  {
   "cell_type": "markdown",
   "id": "4885c63c",
   "metadata": {},
   "source": [
    "in our training data:\n",
    "- 81 females died, 468 males died \n",
    "- 233 females lived, 109 males lived \n",
    "\n",
    "- more number of males died and lesser number of males lived\n",
    "- we figured this out using groupby, no need of manual counting using filter like above you did"
   ]
  },
  {
   "cell_type": "markdown",
   "id": "db69f89a",
   "metadata": {},
   "source": [
    "- resulting value is what we get by using size()\n",
    "\n",
    "use of `reset_index`:\n",
    "- flattens the above multi level index of pandas series into regular rows and columns\n",
    "- it names the resulting values column to count (since above we don't have any column name for resulting values)\n",
    "\n",
    "- by default, size() gives an unnamed Series, so reset_index(name='count') says: “Hey, when you turn this Series into a column, call it 'count'.”\n",
    "- you can give any name instead of 'count' like `.reset_index(name='TotalPassengers')\n",
    "`\n"
   ]
  },
  {
   "cell_type": "code",
   "execution_count": 164,
   "id": "8d5fa580",
   "metadata": {},
   "outputs": [
    {
     "data": {
      "text/html": [
       "<div>\n",
       "<style scoped>\n",
       "    .dataframe tbody tr th:only-of-type {\n",
       "        vertical-align: middle;\n",
       "    }\n",
       "\n",
       "    .dataframe tbody tr th {\n",
       "        vertical-align: top;\n",
       "    }\n",
       "\n",
       "    .dataframe thead th {\n",
       "        text-align: right;\n",
       "    }\n",
       "</style>\n",
       "<table border=\"1\" class=\"dataframe\">\n",
       "  <thead>\n",
       "    <tr style=\"text-align: right;\">\n",
       "      <th></th>\n",
       "      <th>Survived</th>\n",
       "      <th>Sex</th>\n",
       "      <th>count</th>\n",
       "    </tr>\n",
       "  </thead>\n",
       "  <tbody>\n",
       "    <tr>\n",
       "      <th>0</th>\n",
       "      <td>0</td>\n",
       "      <td>female</td>\n",
       "      <td>81</td>\n",
       "    </tr>\n",
       "    <tr>\n",
       "      <th>1</th>\n",
       "      <td>0</td>\n",
       "      <td>male</td>\n",
       "      <td>468</td>\n",
       "    </tr>\n",
       "    <tr>\n",
       "      <th>2</th>\n",
       "      <td>1</td>\n",
       "      <td>female</td>\n",
       "      <td>233</td>\n",
       "    </tr>\n",
       "    <tr>\n",
       "      <th>3</th>\n",
       "      <td>1</td>\n",
       "      <td>male</td>\n",
       "      <td>109</td>\n",
       "    </tr>\n",
       "  </tbody>\n",
       "</table>\n",
       "</div>"
      ],
      "text/plain": [
       "   Survived     Sex  count\n",
       "0         0  female     81\n",
       "1         0    male    468\n",
       "2         1  female    233\n",
       "3         1    male    109"
      ]
     },
     "execution_count": 164,
     "metadata": {},
     "output_type": "execute_result"
    }
   ],
   "source": [
    "\n",
    "grouped = survival_sex.groupby(['Survived', 'Sex']).size().reset_index(name='count')\n",
    "grouped.head()"
   ]
  },
  {
   "cell_type": "code",
   "execution_count": 165,
   "id": "b0685f99",
   "metadata": {},
   "outputs": [
    {
     "data": {
      "image/png": "[encoded data removed]",
      "text/plain": [
       "<Figure size 800x600 with 1 Axes>"
      ]
     },
     "metadata": {},
     "output_type": "display_data"
    }
   ],
   "source": [
    "grouped['Survived'] = grouped['Survived'].map({0:'Died', 1:'Survived'})\n",
    "# .map() reads all row values for 'Survived' column and changes them accordingly\n",
    "\n",
    "# plot now \n",
    "plt.figure(figsize=(8,6), dpi=100)\n",
    "sns.barplot(data=grouped, x='Sex', y='count', hue='Survived', palette='pastel')\n",
    "# hue='Survived' tells seaborn to split x axis values into two groups: Survived vs Died\n",
    "\n",
    "plt.title(\"Survival Count by Gender\")\n",
    "plt.ylabel(\"Number of Passengers\")\n",
    "plt.xlabel(\"Gender\")\n",
    "plt.legend(title=\"Outcome\")\n",
    "plt.tight_layout()\n",
    "plt.show()"
   ]
  },
  {
   "cell_type": "markdown",
   "id": "6473bbfb",
   "metadata": {},
   "source": [
    "comparing the two blue and orange bars side by side, we see\n",
    "- more number of males died \n",
    "- more number of females survived"
   ]
  },
  {
   "cell_type": "markdown",
   "id": "309a146a",
   "metadata": {},
   "source": [
    "for fun:\n",
    "- you can also pivot the data to have a new data frame in different orinetation \n",
    "- pivot means reshaping the dataframe so that sex becomes the index\n",
    "- and survived becomes the columns - that is what we mean by 'pivoting on' the survived column\n",
    "- the value that fills the cell comes from count"
   ]
  },
  {
   "cell_type": "code",
   "execution_count": 166,
   "id": "c8a5ce58",
   "metadata": {},
   "outputs": [
    {
     "data": {
      "text/html": [
       "<div>\n",
       "<style scoped>\n",
       "    .dataframe tbody tr th:only-of-type {\n",
       "        vertical-align: middle;\n",
       "    }\n",
       "\n",
       "    .dataframe tbody tr th {\n",
       "        vertical-align: top;\n",
       "    }\n",
       "\n",
       "    .dataframe thead th {\n",
       "        text-align: right;\n",
       "    }\n",
       "</style>\n",
       "<table border=\"1\" class=\"dataframe\">\n",
       "  <thead>\n",
       "    <tr style=\"text-align: right;\">\n",
       "      <th></th>\n",
       "      <th>Died</th>\n",
       "      <th>Survived</th>\n",
       "    </tr>\n",
       "    <tr>\n",
       "      <th>Sex</th>\n",
       "      <th></th>\n",
       "      <th></th>\n",
       "    </tr>\n",
       "  </thead>\n",
       "  <tbody>\n",
       "    <tr>\n",
       "      <th>female</th>\n",
       "      <td>81</td>\n",
       "      <td>233</td>\n",
       "    </tr>\n",
       "    <tr>\n",
       "      <th>male</th>\n",
       "      <td>468</td>\n",
       "      <td>109</td>\n",
       "    </tr>\n",
       "  </tbody>\n",
       "</table>\n",
       "</div>"
      ],
      "text/plain": [
       "        Died  Survived\n",
       "Sex                   \n",
       "female    81       233\n",
       "male     468       109"
      ]
     },
     "execution_count": 166,
     "metadata": {},
     "output_type": "execute_result"
    }
   ],
   "source": [
    "# Pivot so 'Sex' is the index, 'Survived' becomes columns, and 'count' are values\n",
    "pivot_df = grouped.pivot(index='Sex', columns='Survived', values='count')\n",
    "pivot_df.columns.name = None # removed Survived in the top left of first coulumn, which pandas keep by default (name of the column on which we pivotted on)\n",
    "pivot_df"
   ]
  },
  {
   "cell_type": "markdown",
   "id": "24637ac6",
   "metadata": {},
   "source": [
    "#### Correlation between Boarding Port and Survival"
   ]
  },
  {
   "cell_type": "markdown",
   "id": "9519ab36",
   "metadata": {},
   "source": [
    "now similarly, let's see the bar graph for different boarding port\n",
    "\n",
    "question answered: how many number of ppl survived/died from each boarding port? "
   ]
  },
  {
   "cell_type": "code",
   "execution_count": 167,
   "id": "5da4cec6",
   "metadata": {},
   "outputs": [
    {
     "data": {
      "text/plain": [
       "(891, 12)"
      ]
     },
     "execution_count": 167,
     "metadata": {},
     "output_type": "execute_result"
    }
   ],
   "source": [
    "train_df.shape"
   ]
  },
  {
   "cell_type": "code",
   "execution_count": 168,
   "id": "b4ce7eb0",
   "metadata": {},
   "outputs": [
    {
     "data": {
      "text/plain": [
       "np.int64(2)"
      ]
     },
     "execution_count": 168,
     "metadata": {},
     "output_type": "execute_result"
    }
   ],
   "source": [
    "train_df['Embarked'].isna().sum()"
   ]
  },
  {
   "cell_type": "code",
   "execution_count": 169,
   "id": "dc477f82",
   "metadata": {},
   "outputs": [],
   "source": [
    "survival_dest = train_df[['Survived', 'Embarked']]\n",
    "# this is a pandas series, we use reset index below to convert into a dataframe"
   ]
  },
  {
   "cell_type": "code",
   "execution_count": 170,
   "id": "f672bef2",
   "metadata": {},
   "outputs": [
    {
     "data": {
      "text/plain": [
       "np.int64(889)"
      ]
     },
     "execution_count": 170,
     "metadata": {},
     "output_type": "execute_result"
    }
   ],
   "source": [
    "grouped = survival_dest.groupby(['Survived', 'Embarked']).size().reset_index(name='count')\n",
    "grouped.head()\n",
    "grouped['count'].sum()"
   ]
  },
  {
   "cell_type": "markdown",
   "id": "2d35c950",
   "metadata": {},
   "source": [
    "here, we get 889 relations only between survived and embarked\n",
    "\n",
    "leaving two because two values of embarked are null values \n",
    "\n",
    "if you want to see which two exact rows have that null values, do this"
   ]
  },
  {
   "cell_type": "code",
   "execution_count": 171,
   "id": "5e349529",
   "metadata": {},
   "outputs": [
    {
     "data": {
      "text/html": [
       "<div>\n",
       "<style scoped>\n",
       "    .dataframe tbody tr th:only-of-type {\n",
       "        vertical-align: middle;\n",
       "    }\n",
       "\n",
       "    .dataframe tbody tr th {\n",
       "        vertical-align: top;\n",
       "    }\n",
       "\n",
       "    .dataframe thead th {\n",
       "        text-align: right;\n",
       "    }\n",
       "</style>\n",
       "<table border=\"1\" class=\"dataframe\">\n",
       "  <thead>\n",
       "    <tr style=\"text-align: right;\">\n",
       "      <th></th>\n",
       "      <th>PassengerId</th>\n",
       "      <th>Survived</th>\n",
       "      <th>Pclass</th>\n",
       "      <th>Name</th>\n",
       "      <th>Sex</th>\n",
       "      <th>Age</th>\n",
       "      <th>SibSp</th>\n",
       "      <th>Parch</th>\n",
       "      <th>Ticket</th>\n",
       "      <th>Fare</th>\n",
       "      <th>Cabin</th>\n",
       "      <th>Embarked</th>\n",
       "    </tr>\n",
       "  </thead>\n",
       "  <tbody>\n",
       "    <tr>\n",
       "      <th>61</th>\n",
       "      <td>62</td>\n",
       "      <td>1</td>\n",
       "      <td>1</td>\n",
       "      <td>Icard, Miss. Amelie</td>\n",
       "      <td>female</td>\n",
       "      <td>38.0</td>\n",
       "      <td>0</td>\n",
       "      <td>0</td>\n",
       "      <td>113572</td>\n",
       "      <td>80.0</td>\n",
       "      <td>B28</td>\n",
       "      <td>NaN</td>\n",
       "    </tr>\n",
       "    <tr>\n",
       "      <th>829</th>\n",
       "      <td>830</td>\n",
       "      <td>1</td>\n",
       "      <td>1</td>\n",
       "      <td>Stone, Mrs. George Nelson (Martha Evelyn)</td>\n",
       "      <td>female</td>\n",
       "      <td>62.0</td>\n",
       "      <td>0</td>\n",
       "      <td>0</td>\n",
       "      <td>113572</td>\n",
       "      <td>80.0</td>\n",
       "      <td>B28</td>\n",
       "      <td>NaN</td>\n",
       "    </tr>\n",
       "  </tbody>\n",
       "</table>\n",
       "</div>"
      ],
      "text/plain": [
       "     PassengerId  Survived  Pclass                                       Name  \\\n",
       "61            62         1       1                        Icard, Miss. Amelie   \n",
       "829          830         1       1  Stone, Mrs. George Nelson (Martha Evelyn)   \n",
       "\n",
       "        Sex   Age  SibSp  Parch  Ticket  Fare Cabin Embarked  \n",
       "61   female  38.0      0      0  113572  80.0   B28      NaN  \n",
       "829  female  62.0      0      0  113572  80.0   B28      NaN  "
      ]
     },
     "execution_count": 171,
     "metadata": {},
     "output_type": "execute_result"
    }
   ],
   "source": [
    "train_df[train_df['Embarked'].isna()]\n",
    "# can see that we have two female passengers whose boarding port is unknown"
   ]
  },
  {
   "cell_type": "code",
   "execution_count": 172,
   "id": "50323669",
   "metadata": {},
   "outputs": [
    {
     "data": {
      "text/html": [
       "<div>\n",
       "<style scoped>\n",
       "    .dataframe tbody tr th:only-of-type {\n",
       "        vertical-align: middle;\n",
       "    }\n",
       "\n",
       "    .dataframe tbody tr th {\n",
       "        vertical-align: top;\n",
       "    }\n",
       "\n",
       "    .dataframe thead th {\n",
       "        text-align: right;\n",
       "    }\n",
       "</style>\n",
       "<table border=\"1\" class=\"dataframe\">\n",
       "  <thead>\n",
       "    <tr style=\"text-align: right;\">\n",
       "      <th></th>\n",
       "      <th>Survived</th>\n",
       "      <th>Embarked</th>\n",
       "      <th>count</th>\n",
       "    </tr>\n",
       "  </thead>\n",
       "  <tbody>\n",
       "    <tr>\n",
       "      <th>0</th>\n",
       "      <td>0</td>\n",
       "      <td>C</td>\n",
       "      <td>75</td>\n",
       "    </tr>\n",
       "    <tr>\n",
       "      <th>1</th>\n",
       "      <td>0</td>\n",
       "      <td>Q</td>\n",
       "      <td>47</td>\n",
       "    </tr>\n",
       "    <tr>\n",
       "      <th>2</th>\n",
       "      <td>0</td>\n",
       "      <td>S</td>\n",
       "      <td>427</td>\n",
       "    </tr>\n",
       "    <tr>\n",
       "      <th>3</th>\n",
       "      <td>1</td>\n",
       "      <td>C</td>\n",
       "      <td>93</td>\n",
       "    </tr>\n",
       "    <tr>\n",
       "      <th>4</th>\n",
       "      <td>1</td>\n",
       "      <td>Q</td>\n",
       "      <td>30</td>\n",
       "    </tr>\n",
       "    <tr>\n",
       "      <th>5</th>\n",
       "      <td>1</td>\n",
       "      <td>S</td>\n",
       "      <td>217</td>\n",
       "    </tr>\n",
       "  </tbody>\n",
       "</table>\n",
       "</div>"
      ],
      "text/plain": [
       "   Survived Embarked  count\n",
       "0         0        C     75\n",
       "1         0        Q     47\n",
       "2         0        S    427\n",
       "3         1        C     93\n",
       "4         1        Q     30\n",
       "5         1        S    217"
      ]
     },
     "execution_count": 172,
     "metadata": {},
     "output_type": "execute_result"
    }
   ],
   "source": [
    "grouped"
   ]
  },
  {
   "cell_type": "code",
   "execution_count": 173,
   "id": "ae93e3bb",
   "metadata": {},
   "outputs": [
    {
     "data": {
      "text/html": [
       "<div>\n",
       "<style scoped>\n",
       "    .dataframe tbody tr th:only-of-type {\n",
       "        vertical-align: middle;\n",
       "    }\n",
       "\n",
       "    .dataframe tbody tr th {\n",
       "        vertical-align: top;\n",
       "    }\n",
       "\n",
       "    .dataframe thead th {\n",
       "        text-align: right;\n",
       "    }\n",
       "</style>\n",
       "<table border=\"1\" class=\"dataframe\">\n",
       "  <thead>\n",
       "    <tr style=\"text-align: right;\">\n",
       "      <th></th>\n",
       "      <th>Survived</th>\n",
       "      <th>Embarked</th>\n",
       "      <th>count</th>\n",
       "    </tr>\n",
       "  </thead>\n",
       "  <tbody>\n",
       "    <tr>\n",
       "      <th>0</th>\n",
       "      <td>Died</td>\n",
       "      <td>Cherbourg</td>\n",
       "      <td>75</td>\n",
       "    </tr>\n",
       "    <tr>\n",
       "      <th>1</th>\n",
       "      <td>Died</td>\n",
       "      <td>Queenstown</td>\n",
       "      <td>47</td>\n",
       "    </tr>\n",
       "    <tr>\n",
       "      <th>2</th>\n",
       "      <td>Died</td>\n",
       "      <td>Southampton</td>\n",
       "      <td>427</td>\n",
       "    </tr>\n",
       "    <tr>\n",
       "      <th>3</th>\n",
       "      <td>Survived</td>\n",
       "      <td>Cherbourg</td>\n",
       "      <td>93</td>\n",
       "    </tr>\n",
       "    <tr>\n",
       "      <th>4</th>\n",
       "      <td>Survived</td>\n",
       "      <td>Queenstown</td>\n",
       "      <td>30</td>\n",
       "    </tr>\n",
       "    <tr>\n",
       "      <th>5</th>\n",
       "      <td>Survived</td>\n",
       "      <td>Southampton</td>\n",
       "      <td>217</td>\n",
       "    </tr>\n",
       "  </tbody>\n",
       "</table>\n",
       "</div>"
      ],
      "text/plain": [
       "   Survived     Embarked  count\n",
       "0      Died    Cherbourg     75\n",
       "1      Died   Queenstown     47\n",
       "2      Died  Southampton    427\n",
       "3  Survived    Cherbourg     93\n",
       "4  Survived   Queenstown     30\n",
       "5  Survived  Southampton    217"
      ]
     },
     "execution_count": 173,
     "metadata": {},
     "output_type": "execute_result"
    }
   ],
   "source": [
    "# make it more readable\n",
    "grouped['Survived'] = grouped['Survived'].map({0:\"Died\", 1:\"Survived\"})\n",
    "grouped['Embarked'] = grouped['Embarked'].map({'C':'Cherbourg', 'Q':'Queenstown', 'S':'Southampton'})\n",
    "grouped"
   ]
  },
  {
   "cell_type": "code",
   "execution_count": 174,
   "id": "34428fda",
   "metadata": {},
   "outputs": [
    {
     "data": {
      "image/png": "[encoded data removed]",
      "text/plain": [
       "<Figure size 1000x800 with 1 Axes>"
      ]
     },
     "metadata": {},
     "output_type": "display_data"
    }
   ],
   "source": [
    "# plot now\n",
    "plt.figure(figsize=(10,8), dpi=100)\n",
    "\n",
    "# without annotation: sns.barplot(data=grouped, x='Embarked', y='count', hue='Survived', palette='coolwarm')\n",
    "\n",
    "ax = sns.barplot(data=grouped, x='Embarked', y='count', hue='Survived', palette='coolwarm')\n",
    "\n",
    "# Annotate each bar with the value\n",
    "for container in ax.containers:\n",
    "    ax.bar_label(container, fmt='%d', label_type='edge', padding=3)\n",
    "\n",
    "plt.title(\"Survival Count by Ports\")\n",
    "plt.ylabel(\"Number of Passengers\")\n",
    "plt.xlabel(\"Ports\")\n",
    "plt.legend(title=\"Outcome\")\n",
    "plt.tight_layout()\n",
    "plt.show()"
   ]
  },
  {
   "cell_type": "markdown",
   "id": "ed54c941",
   "metadata": {},
   "source": [
    "we can clearly see that most ppl survived and died from southampton but that may also be because the number of passengers may be much more from southapmton to explain this \n",
    "\n",
    "about the code:\n",
    "- ax.containers contains the individual bar groups.\n",
    "- ax.bar_label() adds the value label on each bar.\n",
    "- fmt='%d' ensures labels are shown as whole numbers.\n",
    "- label_type='edge' puts the label just above the bar."
   ]
  },
  {
   "cell_type": "code",
   "execution_count": 175,
   "id": "ef63baf3",
   "metadata": {},
   "outputs": [
    {
     "data": {
      "text/plain": [
       "array(['S', 'C', 'Q', nan], dtype=object)"
      ]
     },
     "execution_count": 175,
     "metadata": {},
     "output_type": "execute_result"
    }
   ],
   "source": [
    "# count number of passsengers from each port \n",
    "ports  = train_df['Embarked']\n",
    "ports.unique()"
   ]
  },
  {
   "cell_type": "code",
   "execution_count": 176,
   "id": "51057ee4",
   "metadata": {},
   "outputs": [
    {
     "data": {
      "text/plain": [
       "Embarked\n",
       "S    644\n",
       "C    168\n",
       "Q     77\n",
       "Name: count, dtype: int64"
      ]
     },
     "execution_count": 176,
     "metadata": {},
     "output_type": "execute_result"
    }
   ],
   "source": [
    "# you use value_counts() for counting unique values\n",
    "ports.value_counts()\n",
    "# this is Series "
   ]
  },
  {
   "cell_type": "markdown",
   "id": "241566e2",
   "metadata": {},
   "source": [
    "this clearly shows that ppl from southampton are way more than cherbourg or queenstown which explains why they died/survived more"
   ]
  },
  {
   "cell_type": "markdown",
   "id": "a1b30a22",
   "metadata": {},
   "source": [
    "#### Fun Donut Chart"
   ]
  },
  {
   "cell_type": "markdown",
   "id": "a7a5054f",
   "metadata": {},
   "source": [
    "we use this donut chart to display number of passengers from each port "
   ]
  },
  {
   "cell_type": "code",
   "execution_count": 177,
   "id": "3d617090",
   "metadata": {},
   "outputs": [
    {
     "data": {
      "image/png": "[encoded data removed]",
      "text/plain": [
       "<Figure size 600x600 with 1 Axes>"
      ]
     },
     "metadata": {},
     "output_type": "display_data"
    }
   ],
   "source": [
    "port_counts = train_df['Embarked'].value_counts() # a series\n",
    "port_labels = port_counts.index.map({'S': 'Southampton', 'C': 'Cherbourg', 'Q': 'Queenstown'})\n",
    "\n",
    "# create donut chart \n",
    "plt.figure(figsize=(6,6))\n",
    "plt.pie(port_counts, labels=port_labels, autopct='%1.1f%%', startangle=90, colors=['skyblue', 'lightgreen', 'salmon'])\n",
    "\n",
    "# Draw white circle in center to make it a donut\n",
    "centre_circle = plt.Circle((0, 0), 0.70, fc='white')\n",
    "plt.gca().add_artist(centre_circle)\n",
    "\n",
    "plt.title(\"Passenger Distribution by Port of Embarkation\")\n",
    "plt.tight_layout()\n",
    "plt.show()"
   ]
  },
  {
   "cell_type": "markdown",
   "id": "d1b3b4b3",
   "metadata": {},
   "source": [
    "### Feature Engineering"
   ]
  },
  {
   "cell_type": "markdown",
   "id": "35d333ab",
   "metadata": {},
   "source": [
    "`aim:`\n",
    "- extract deck from cabin \n",
    "- extract title from names which can represent role + gender + societal status\n",
    "- extract family size "
   ]
  },
  {
   "cell_type": "markdown",
   "id": "e9a91e12",
   "metadata": {},
   "source": [
    "##### Extract Decks"
   ]
  },
  {
   "cell_type": "code",
   "execution_count": 178,
   "id": "e8d9b0a1",
   "metadata": {},
   "outputs": [
    {
     "data": {
      "text/plain": [
       "np.int64(687)"
      ]
     },
     "execution_count": 178,
     "metadata": {},
     "output_type": "execute_result"
    }
   ],
   "source": [
    "# before we do any extraction, we check \n",
    "train_df['Cabin'].isna().sum()"
   ]
  },
  {
   "cell_type": "markdown",
   "id": "56fcb2a5",
   "metadata": {},
   "source": [
    "we have 687/891 null values which is a lot but the model can still train on the remaining ones to get a prediction.\n",
    "\n",
    "the reason we extract deck from cabin is because richer people would be on the higher deck (higher class, more fare price) so they would be closer to lifeboats and have a higher chance of surviving as compared to someone who is on a lower deck because they would be closer to water."
   ]
  },
  {
   "cell_type": "code",
   "execution_count": 179,
   "id": "8dbed3a3",
   "metadata": {},
   "outputs": [],
   "source": [
    "# first fill the null decks with some 'U' (for unknown)\n",
    "train_df['Cabin']=train_df['Cabin'].fillna('U')\n",
    "\n",
    "# extract deck \n",
    "train_df['Deck']=train_df['Cabin'].astype(str).str[0]"
   ]
  },
  {
   "cell_type": "code",
   "execution_count": 180,
   "id": "7000afc4",
   "metadata": {},
   "outputs": [
    {
     "data": {
      "text/plain": [
       "Deck\n",
       "A     15\n",
       "B     47\n",
       "C     59\n",
       "D     33\n",
       "E     32\n",
       "F     13\n",
       "G      4\n",
       "T      1\n",
       "U    687\n",
       "Name: count, dtype: int64"
      ]
     },
     "execution_count": 180,
     "metadata": {},
     "output_type": "execute_result"
    }
   ],
   "source": [
    "train_df[\"Deck\"].value_counts().sort_index()"
   ]
  },
  {
   "cell_type": "markdown",
   "id": "4218ea36",
   "metadata": {},
   "source": [
    "ignore U\n",
    "\n",
    "we see that out of all the known decks, most number of middle-class passengers would be from B to E, explaining their higher numbers \n",
    "\n",
    "top and bottom decks would have less people as in real life so they do here "
   ]
  },
  {
   "cell_type": "code",
   "execution_count": 181,
   "id": "e75867a5",
   "metadata": {},
   "outputs": [
    {
     "data": {
      "text/html": [
       "<div>\n",
       "<style scoped>\n",
       "    .dataframe tbody tr th:only-of-type {\n",
       "        vertical-align: middle;\n",
       "    }\n",
       "\n",
       "    .dataframe tbody tr th {\n",
       "        vertical-align: top;\n",
       "    }\n",
       "\n",
       "    .dataframe thead th {\n",
       "        text-align: right;\n",
       "    }\n",
       "</style>\n",
       "<table border=\"1\" class=\"dataframe\">\n",
       "  <thead>\n",
       "    <tr style=\"text-align: right;\">\n",
       "      <th></th>\n",
       "      <th>Deck</th>\n",
       "      <th>pax/deck</th>\n",
       "    </tr>\n",
       "  </thead>\n",
       "  <tbody>\n",
       "    <tr>\n",
       "      <th>0</th>\n",
       "      <td>A</td>\n",
       "      <td>15</td>\n",
       "    </tr>\n",
       "    <tr>\n",
       "      <th>1</th>\n",
       "      <td>B</td>\n",
       "      <td>47</td>\n",
       "    </tr>\n",
       "    <tr>\n",
       "      <th>2</th>\n",
       "      <td>C</td>\n",
       "      <td>59</td>\n",
       "    </tr>\n",
       "    <tr>\n",
       "      <th>3</th>\n",
       "      <td>D</td>\n",
       "      <td>33</td>\n",
       "    </tr>\n",
       "    <tr>\n",
       "      <th>4</th>\n",
       "      <td>E</td>\n",
       "      <td>32</td>\n",
       "    </tr>\n",
       "    <tr>\n",
       "      <th>5</th>\n",
       "      <td>F</td>\n",
       "      <td>13</td>\n",
       "    </tr>\n",
       "    <tr>\n",
       "      <th>6</th>\n",
       "      <td>G</td>\n",
       "      <td>4</td>\n",
       "    </tr>\n",
       "    <tr>\n",
       "      <th>7</th>\n",
       "      <td>T</td>\n",
       "      <td>1</td>\n",
       "    </tr>\n",
       "    <tr>\n",
       "      <th>8</th>\n",
       "      <td>U</td>\n",
       "      <td>687</td>\n",
       "    </tr>\n",
       "  </tbody>\n",
       "</table>\n",
       "</div>"
      ],
      "text/plain": [
       "  Deck  pax/deck\n",
       "0    A        15\n",
       "1    B        47\n",
       "2    C        59\n",
       "3    D        33\n",
       "4    E        32\n",
       "5    F        13\n",
       "6    G         4\n",
       "7    T         1\n",
       "8    U       687"
      ]
     },
     "execution_count": 181,
     "metadata": {},
     "output_type": "execute_result"
    }
   ],
   "source": [
    "# find number of people on each deck \n",
    "# using groupby instead of sort index or value counts\n",
    "\n",
    "# step 1: see the number of categories and their counts using groupby  \n",
    "grouped = train_df.groupby(['Deck']).size().reset_index(name='pax/deck')\n",
    "grouped"
   ]
  },
  {
   "cell_type": "code",
   "execution_count": 182,
   "id": "c5e6b042",
   "metadata": {},
   "outputs": [
    {
     "data": {
      "text/plain": [
       "Deck\n",
       "A    0.466667\n",
       "B    0.744681\n",
       "C    0.593220\n",
       "D    0.757576\n",
       "E    0.750000\n",
       "F    0.615385\n",
       "G    0.500000\n",
       "T    0.000000\n",
       "U    0.299854\n",
       "Name: Survived, dtype: float64"
      ]
     },
     "execution_count": 182,
     "metadata": {},
     "output_type": "execute_result"
    }
   ],
   "source": [
    "# step 2: check survival rate of each category \n",
    "# we need to group by deck and calculate mean of 'Survived' column\n",
    "train_df.groupby('Deck')['Survived'].mean()"
   ]
  },
  {
   "cell_type": "markdown",
   "id": "e296624a",
   "metadata": {},
   "source": [
    "We can see that decks B to F have more than 50% rate of survival!\n",
    "\n",
    "| Deck | Survived |\n",
    "| ---- | -------- |\n",
    "| A    | 1        |\n",
    "| A    | 0        |\n",
    "| A    | 1        |\n",
    "| B    | 0        |\n",
    "| B    | 0        |\n",
    "- For Deck A: Survival rate = (1 + 0 + 1) / 3 = 0.67\n",
    "- For Deck B: Survival rate = (0 + 0) / 2 = 0.0\n",
    "\n",
    "This is what the code above does automatically"
   ]
  },
  {
   "cell_type": "markdown",
   "id": "c85d9670",
   "metadata": {},
   "source": [
    "- visually showing the survival rate of each deck"
   ]
  },
  {
   "cell_type": "code",
   "execution_count": 183,
   "id": "dea25263",
   "metadata": {},
   "outputs": [
    {
     "data": {
      "image/png": "[encoded data removed]",
      "text/plain": [
       "<Figure size 640x480 with 1 Axes>"
      ]
     },
     "metadata": {},
     "output_type": "display_data"
    }
   ],
   "source": [
    "# Prepare data\n",
    "deck_survival = train_df.groupby('Deck')['Survived'].mean().reset_index()\n",
    "\n",
    "# Bar plot\n",
    "sns.barplot(data=deck_survival, x='Deck', y='Survived', hue='Deck', palette='viridis')\n",
    "plt.title('Survival Rate by Deck')\n",
    "plt.ylim(0, 1)\n",
    "plt.ylabel('Survival Rate')\n",
    "plt.xlabel('Deck')\n",
    "plt.grid(axis='y', linestyle='--', alpha=0.7)\n",
    "\n",
    "# Annotate exact survival rates\n",
    "for i, row in deck_survival.iterrows():\n",
    "    plt.text(i, row['Survived'] + 0.03, f\"{row['Survived']:.0%}\", ha='center', fontweight='bold')\n",
    "\n",
    "plt.tight_layout()\n",
    "plt.savefig(\"deck_survival.png\", dpi=300)\n",
    "plt.show()"
   ]
  },
  {
   "cell_type": "markdown",
   "id": "438ae174",
   "metadata": {},
   "source": [
    "##### Extract Titles"
   ]
  },
  {
   "cell_type": "markdown",
   "id": "a95e5330",
   "metadata": {},
   "source": [
    "- .astype() str converts each value in column to string by calling str() on each value\n",
    "- .str is used to access pandas string methods (like `.str.extract()`, `.str.contains()`, etc). Doesn't convert types, expects the column to already be strings or convertible. "
   ]
  },
  {
   "cell_type": "code",
   "execution_count": 184,
   "id": "5dd2c052",
   "metadata": {},
   "outputs": [],
   "source": [
    "# extract title using regex \n",
    "train_df['Title'] = train_df['Name'].str.extract(r',\\s*([^\\.]*)\\s*\\.')"
   ]
  },
  {
   "cell_type": "code",
   "execution_count": 185,
   "id": "465499e6",
   "metadata": {},
   "outputs": [
    {
     "data": {
      "text/html": [
       "<div>\n",
       "<style scoped>\n",
       "    .dataframe tbody tr th:only-of-type {\n",
       "        vertical-align: middle;\n",
       "    }\n",
       "\n",
       "    .dataframe tbody tr th {\n",
       "        vertical-align: top;\n",
       "    }\n",
       "\n",
       "    .dataframe thead th {\n",
       "        text-align: right;\n",
       "    }\n",
       "</style>\n",
       "<table border=\"1\" class=\"dataframe\">\n",
       "  <thead>\n",
       "    <tr style=\"text-align: right;\">\n",
       "      <th></th>\n",
       "      <th>Title</th>\n",
       "      <th>Count</th>\n",
       "    </tr>\n",
       "  </thead>\n",
       "  <tbody>\n",
       "    <tr>\n",
       "      <th>0</th>\n",
       "      <td>Capt</td>\n",
       "      <td>1</td>\n",
       "    </tr>\n",
       "    <tr>\n",
       "      <th>1</th>\n",
       "      <td>Col</td>\n",
       "      <td>2</td>\n",
       "    </tr>\n",
       "    <tr>\n",
       "      <th>2</th>\n",
       "      <td>Don</td>\n",
       "      <td>1</td>\n",
       "    </tr>\n",
       "    <tr>\n",
       "      <th>3</th>\n",
       "      <td>Dr</td>\n",
       "      <td>7</td>\n",
       "    </tr>\n",
       "    <tr>\n",
       "      <th>4</th>\n",
       "      <td>Jonkheer</td>\n",
       "      <td>1</td>\n",
       "    </tr>\n",
       "    <tr>\n",
       "      <th>5</th>\n",
       "      <td>Lady</td>\n",
       "      <td>1</td>\n",
       "    </tr>\n",
       "    <tr>\n",
       "      <th>6</th>\n",
       "      <td>Major</td>\n",
       "      <td>2</td>\n",
       "    </tr>\n",
       "    <tr>\n",
       "      <th>7</th>\n",
       "      <td>Master</td>\n",
       "      <td>40</td>\n",
       "    </tr>\n",
       "    <tr>\n",
       "      <th>8</th>\n",
       "      <td>Miss</td>\n",
       "      <td>182</td>\n",
       "    </tr>\n",
       "    <tr>\n",
       "      <th>9</th>\n",
       "      <td>Mlle</td>\n",
       "      <td>2</td>\n",
       "    </tr>\n",
       "    <tr>\n",
       "      <th>10</th>\n",
       "      <td>Mme</td>\n",
       "      <td>1</td>\n",
       "    </tr>\n",
       "    <tr>\n",
       "      <th>11</th>\n",
       "      <td>Mr</td>\n",
       "      <td>517</td>\n",
       "    </tr>\n",
       "    <tr>\n",
       "      <th>12</th>\n",
       "      <td>Mrs</td>\n",
       "      <td>125</td>\n",
       "    </tr>\n",
       "    <tr>\n",
       "      <th>13</th>\n",
       "      <td>Ms</td>\n",
       "      <td>1</td>\n",
       "    </tr>\n",
       "    <tr>\n",
       "      <th>14</th>\n",
       "      <td>Rev</td>\n",
       "      <td>6</td>\n",
       "    </tr>\n",
       "    <tr>\n",
       "      <th>15</th>\n",
       "      <td>Sir</td>\n",
       "      <td>1</td>\n",
       "    </tr>\n",
       "    <tr>\n",
       "      <th>16</th>\n",
       "      <td>the Countess</td>\n",
       "      <td>1</td>\n",
       "    </tr>\n",
       "  </tbody>\n",
       "</table>\n",
       "</div>"
      ],
      "text/plain": [
       "           Title  Count\n",
       "0           Capt      1\n",
       "1            Col      2\n",
       "2            Don      1\n",
       "3             Dr      7\n",
       "4       Jonkheer      1\n",
       "5           Lady      1\n",
       "6          Major      2\n",
       "7         Master     40\n",
       "8           Miss    182\n",
       "9           Mlle      2\n",
       "10           Mme      1\n",
       "11            Mr    517\n",
       "12           Mrs    125\n",
       "13            Ms      1\n",
       "14           Rev      6\n",
       "15           Sir      1\n",
       "16  the Countess      1"
      ]
     },
     "execution_count": 185,
     "metadata": {},
     "output_type": "execute_result"
    }
   ],
   "source": [
    "# step 1: see the number of categories and their counts using groupby  \n",
    "\n",
    "# what all titles we have? train_df['Title'].unique() {gets you a numpy array}\n",
    "# but to also see their counts, use group by \n",
    "train_df.groupby('Title').size().reset_index(name='Count')"
   ]
  },
  {
   "cell_type": "code",
   "execution_count": 186,
   "id": "7207bccd",
   "metadata": {},
   "outputs": [],
   "source": [
    "# Replace rare/strange titles with 'Other' or combine similar ones\n",
    "train_df[\"Title\"] = train_df[\"Title\"].replace({\n",
    "    'Mlle': 'Miss', 'Ms': 'Miss', 'Mme': 'Mrs',\n",
    "    'Dr': 'Other', 'Major': 'Other', 'Col': 'Other',\n",
    "    'Lady': 'Miss', 'Sir': 'Mr', 'Capt': 'Other',\n",
    "    'the Countess': 'Other', 'Don': 'Other', 'Jonkheer': 'Other', 'Rev': 'Other'\n",
    "})"
   ]
  },
  {
   "cell_type": "code",
   "execution_count": 187,
   "id": "e93ff2ae",
   "metadata": {},
   "outputs": [
    {
     "data": {
      "text/html": [
       "<div>\n",
       "<style scoped>\n",
       "    .dataframe tbody tr th:only-of-type {\n",
       "        vertical-align: middle;\n",
       "    }\n",
       "\n",
       "    .dataframe tbody tr th {\n",
       "        vertical-align: top;\n",
       "    }\n",
       "\n",
       "    .dataframe thead th {\n",
       "        text-align: right;\n",
       "    }\n",
       "</style>\n",
       "<table border=\"1\" class=\"dataframe\">\n",
       "  <thead>\n",
       "    <tr style=\"text-align: right;\">\n",
       "      <th></th>\n",
       "      <th>Title</th>\n",
       "      <th>Count</th>\n",
       "    </tr>\n",
       "  </thead>\n",
       "  <tbody>\n",
       "    <tr>\n",
       "      <th>0</th>\n",
       "      <td>Master</td>\n",
       "      <td>40</td>\n",
       "    </tr>\n",
       "    <tr>\n",
       "      <th>1</th>\n",
       "      <td>Miss</td>\n",
       "      <td>186</td>\n",
       "    </tr>\n",
       "    <tr>\n",
       "      <th>2</th>\n",
       "      <td>Mr</td>\n",
       "      <td>518</td>\n",
       "    </tr>\n",
       "    <tr>\n",
       "      <th>3</th>\n",
       "      <td>Mrs</td>\n",
       "      <td>126</td>\n",
       "    </tr>\n",
       "    <tr>\n",
       "      <th>4</th>\n",
       "      <td>Other</td>\n",
       "      <td>21</td>\n",
       "    </tr>\n",
       "  </tbody>\n",
       "</table>\n",
       "</div>"
      ],
      "text/plain": [
       "    Title  Count\n",
       "0  Master     40\n",
       "1    Miss    186\n",
       "2      Mr    518\n",
       "3     Mrs    126\n",
       "4   Other     21"
      ]
     },
     "execution_count": 187,
     "metadata": {},
     "output_type": "execute_result"
    }
   ],
   "source": [
    "train_df.groupby('Title').size().reset_index(name='Count')"
   ]
  },
  {
   "cell_type": "markdown",
   "id": "e40cb9e3",
   "metadata": {},
   "source": [
    "the above table easily gives the composition of gender + social status "
   ]
  },
  {
   "cell_type": "code",
   "execution_count": 188,
   "id": "9e2a09dc",
   "metadata": {},
   "outputs": [
    {
     "data": {
      "text/plain": [
       "Title\n",
       "Master    0.575000\n",
       "Miss      0.704301\n",
       "Mr        0.158301\n",
       "Mrs       0.793651\n",
       "Other     0.285714\n",
       "Name: Survived, dtype: float64"
      ]
     },
     "execution_count": 188,
     "metadata": {},
     "output_type": "execute_result"
    }
   ],
   "source": [
    "# step 2: check survival rate of each category \n",
    "\n",
    "# now if we want to check survival rate based on this\n",
    "train_df.groupby('Title')['Survived'].mean()"
   ]
  },
  {
   "cell_type": "markdown",
   "id": "66df7358",
   "metadata": {},
   "source": [
    "amazing insight!\n",
    "\n",
    "- we can easily see that married woman have almost 80% chance of survival!!\n",
    "- similarly, unmarried woman and kids have more than 50% chance of survival\n",
    "- we can see that males have very less survival chance \n",
    "\n",
    "∴ 'Name', which we earlier discarded as 'useless' turns `very very useful` when extracted the titles "
   ]
  },
  {
   "cell_type": "markdown",
   "id": "ddd7dbe7",
   "metadata": {},
   "source": [
    "`charts for survival rate by title`"
   ]
  },
  {
   "cell_type": "markdown",
   "id": "58ef9267",
   "metadata": {},
   "source": [
    "we've both:\n",
    "- number of people who had this title\n",
    "- percentage of people per title who survived\n",
    "\n",
    "∴ we can present the above info together using:\n",
    "- side-by-side bars for counts + survival\n",
    "- preferred: stacked bar with annotations (if you want to show survival and non-survival within each title)"
   ]
  },
  {
   "cell_type": "code",
   "execution_count": 189,
   "id": "651a5186",
   "metadata": {},
   "outputs": [
    {
     "data": {
      "image/png": "[encoded data removed]",
      "text/plain": [
       "<Figure size 1000x600 with 2 Axes>"
      ]
     },
     "metadata": {},
     "output_type": "display_data"
    }
   ],
   "source": [
    "# Compute survival rate and count\n",
    "summary = train_df.groupby('Title').agg(\n",
    "    Count=('Survived', 'count'),\n",
    "    Survival_Rate=('Survived', 'mean')\n",
    ").reset_index()\n",
    "\n",
    "fig, ax1 = plt.subplots(figsize=(10, 6))\n",
    "\n",
    "# Bar plot for Count\n",
    "sns.barplot(data=summary, x='Title', y='Count', ax=ax1, color='lightblue')\n",
    "ax1.set_ylabel('Passenger Count', color='blue')\n",
    "ax1.set_xlabel('Title')\n",
    "ax1.tick_params(axis='y', labelcolor='blue')\n",
    "\n",
    "# Add survival rate on second axis\n",
    "ax2 = ax1.twinx()\n",
    "sns.lineplot(data=summary, x='Title', y='Survival_Rate', ax=ax2, color='red', marker='o', linewidth=2)\n",
    "ax2.set_ylabel('Survival Rate', color='red')\n",
    "ax2.tick_params(axis='y', labelcolor='red')\n",
    "ax2.set_ylim(0, 1)\n",
    "\n",
    "plt.title('Passenger Count and Survival Rate by Title')\n",
    "plt.grid(axis='y', linestyle='--', alpha=0.5)\n",
    "plt.tight_layout()\n",
    "plt.savefig(\"title_survival_count.png\", dpi=300)\n",
    "plt.show()\n"
   ]
  },
  {
   "cell_type": "code",
   "execution_count": 190,
   "id": "2ed8c649",
   "metadata": {},
   "outputs": [
    {
     "data": {
      "image/png": "[encoded data removed]",
      "text/plain": [
       "<Figure size 800x600 with 1 Axes>"
      ]
     },
     "metadata": {},
     "output_type": "display_data"
    }
   ],
   "source": [
    "survival_split = train_df.groupby(['Title', 'Survived']).size().unstack().fillna(0)\n",
    "survival_split.columns = ['Did Not Survive', 'Survived']\n",
    "survival_split.plot(kind='bar', stacked=True, figsize=(8, 6), color=['#d9534f', '#5cb85c'])\n",
    "\n",
    "plt.title('Survival Breakdown by Title')\n",
    "plt.ylabel('Number of Passengers')\n",
    "plt.xlabel('Title')\n",
    "plt.xticks(rotation=0)\n",
    "plt.legend(title='Outcome')\n",
    "plt.tight_layout()\n",
    "plt.savefig(\"title_survival.png\", dpi=300)\n",
    "plt.show()"
   ]
  },
  {
   "cell_type": "markdown",
   "id": "5ef8b35b",
   "metadata": {},
   "source": [
    "##### Extract Family Size"
   ]
  },
  {
   "cell_type": "code",
   "execution_count": 191,
   "id": "d603c531",
   "metadata": {},
   "outputs": [],
   "source": [
    "# SibSp = # of siblings/spouses aboard\n",
    "# Parch = # of parents/children aboard\n",
    "train_df['FamilySize'] = train_df['SibSp'] + train_df['Parch'] + 1  # +1 includes the person themself"
   ]
  },
  {
   "cell_type": "code",
   "execution_count": 192,
   "id": "99ef59ab",
   "metadata": {},
   "outputs": [
    {
     "data": {
      "text/plain": [
       "array([ 2,  1,  5,  3,  7,  6,  4,  8, 11])"
      ]
     },
     "execution_count": 192,
     "metadata": {},
     "output_type": "execute_result"
    }
   ],
   "source": [
    "# check what's the faamily size for our data\n",
    "train_df['FamilySize'].unique()"
   ]
  },
  {
   "cell_type": "code",
   "execution_count": 193,
   "id": "7da0bcd5",
   "metadata": {},
   "outputs": [],
   "source": [
    "# based on above family sizes, we can divide our family into solo, small, medium and large\n",
    "train_df['FamilyCategory'] = pd.cut(train_df['FamilySize'], bins=[0,1,4,8,11], labels=['Solo', 'Small', 'Medium', 'Large'])"
   ]
  },
  {
   "cell_type": "code",
   "execution_count": 194,
   "id": "a826fea5",
   "metadata": {},
   "outputs": [
    {
     "data": {
      "text/plain": [
       "['Small', 'Solo', 'Medium', 'Large']\n",
       "Categories (4, object): ['Solo' < 'Small' < 'Medium' < 'Large']"
      ]
     },
     "execution_count": 194,
     "metadata": {},
     "output_type": "execute_result"
    }
   ],
   "source": [
    "train_df['FamilyCategory'].unique()"
   ]
  },
  {
   "cell_type": "code",
   "execution_count": 195,
   "id": "a16320d3",
   "metadata": {},
   "outputs": [
    {
     "data": {
      "text/html": [
       "<div>\n",
       "<style scoped>\n",
       "    .dataframe tbody tr th:only-of-type {\n",
       "        vertical-align: middle;\n",
       "    }\n",
       "\n",
       "    .dataframe tbody tr th {\n",
       "        vertical-align: top;\n",
       "    }\n",
       "\n",
       "    .dataframe thead th {\n",
       "        text-align: right;\n",
       "    }\n",
       "</style>\n",
       "<table border=\"1\" class=\"dataframe\">\n",
       "  <thead>\n",
       "    <tr style=\"text-align: right;\">\n",
       "      <th></th>\n",
       "      <th>FamilyCategory</th>\n",
       "      <th>Count</th>\n",
       "    </tr>\n",
       "  </thead>\n",
       "  <tbody>\n",
       "    <tr>\n",
       "      <th>0</th>\n",
       "      <td>Solo</td>\n",
       "      <td>537</td>\n",
       "    </tr>\n",
       "    <tr>\n",
       "      <th>1</th>\n",
       "      <td>Small</td>\n",
       "      <td>292</td>\n",
       "    </tr>\n",
       "    <tr>\n",
       "      <th>2</th>\n",
       "      <td>Medium</td>\n",
       "      <td>55</td>\n",
       "    </tr>\n",
       "    <tr>\n",
       "      <th>3</th>\n",
       "      <td>Large</td>\n",
       "      <td>7</td>\n",
       "    </tr>\n",
       "  </tbody>\n",
       "</table>\n",
       "</div>"
      ],
      "text/plain": [
       "  FamilyCategory  Count\n",
       "0           Solo    537\n",
       "1          Small    292\n",
       "2         Medium     55\n",
       "3          Large      7"
      ]
     },
     "execution_count": 195,
     "metadata": {},
     "output_type": "execute_result"
    }
   ],
   "source": [
    "# step 1: see the number of categories and their counts using groupby  \n",
    "train_df.groupby('FamilyCategory', observed=False).size().reset_index(name='Count')"
   ]
  },
  {
   "cell_type": "markdown",
   "id": "3dc6fd7b",
   "metadata": {},
   "source": [
    "can also see that solo travellers were travelling more as compared to family "
   ]
  },
  {
   "cell_type": "code",
   "execution_count": 196,
   "id": "89949c24",
   "metadata": {},
   "outputs": [
    {
     "data": {
      "text/plain": [
       "FamilyCategory\n",
       "Solo      0.303538\n",
       "Small     0.578767\n",
       "Medium    0.181818\n",
       "Large     0.000000\n",
       "Name: Survived, dtype: float64"
      ]
     },
     "execution_count": 196,
     "metadata": {},
     "output_type": "execute_result"
    }
   ],
   "source": [
    "# step 2: check the survival rate of each category \n",
    "train_df.groupby('FamilyCategory', observed=False)['Survived'].mean()\n",
    "\n",
    "# note this works because of the survive = 0 and died = 0 nature of our dataset"
   ]
  },
  {
   "cell_type": "markdown",
   "id": "c685d7c0",
   "metadata": {},
   "source": [
    "insights\n",
    "\n",
    "- large families didn't quite survive\n",
    "- small familes (1-4) have high chances of survival\n",
    "- medium families also have low survival rate"
   ]
  },
  {
   "cell_type": "code",
   "execution_count": 197,
   "id": "418c35e5",
   "metadata": {},
   "outputs": [
    {
     "name": "stderr",
     "output_type": "stream",
     "text": [
      "C:\\Users\\gupta\\AppData\\Local\\Temp\\ipykernel_11760\\2164582685.py:2: FutureWarning: The default of observed=False is deprecated and will be changed to True in a future version of pandas. Pass observed=False to retain current behavior or observed=True to adopt the future default and silence this warning.\n",
      "  family_stats = train_df.groupby('FamilyCategory').agg(\n"
     ]
    },
    {
     "data": {
      "image/png": "[encoded data removed]",
      "text/plain": [
       "<Figure size 800x600 with 1 Axes>"
      ]
     },
     "metadata": {},
     "output_type": "display_data"
    }
   ],
   "source": [
    "# Count passengers per category + survival rate\n",
    "family_stats = train_df.groupby('FamilyCategory').agg(\n",
    "    Passenger_Count=('Survived', 'count'),\n",
    "    Survival_Rate=('Survived', 'mean')\n",
    ").reset_index()\n",
    "\n",
    "# Plot count per category\n",
    "plt.figure(figsize=(8, 6))\n",
    "ax = sns.barplot(data=family_stats, x='FamilyCategory', y='Passenger_Count', palette='viridis', hue='FamilyCategory')\n",
    "\n",
    "# Add survival rate labels on top of each bar\n",
    "for i, row in family_stats.iterrows():\n",
    "    ax.text(i, row['Passenger_Count'] + 2, f\"{row['Survival_Rate']:.0%}\", \n",
    "            ha='center', va='bottom', fontweight='bold', fontsize=10)\n",
    "\n",
    "plt.title('Passenger Count by Family Category (Survival % on Top)')\n",
    "plt.ylabel('Number of Passengers')\n",
    "plt.xlabel('Family Category')\n",
    "plt.grid(axis='y', linestyle='--', alpha=0.5)\n",
    "plt.tight_layout()\n",
    "plt.savefig(\"C:/self-learn/mini_projects/week3/family_survival.png\", dpi=300)\n",
    "plt.show()"
   ]
  },
  {
   "cell_type": "markdown",
   "id": "8b81229d",
   "metadata": {},
   "source": [
    "#### Fill Missing Values"
   ]
  },
  {
   "cell_type": "code",
   "execution_count": 198,
   "id": "27c150a6",
   "metadata": {},
   "outputs": [],
   "source": [
    "train_df['Embarked'] = train_df['Embarked'].fillna(train_df['Embarked'].mode()[0])\n",
    "# Even if multiple values are tied for the mode, .mode() returns all of them — and [0] just picks the first one. \n",
    "# It's deterministic and works fine unless you specifically care about the tie."
   ]
  },
  {
   "cell_type": "code",
   "execution_count": 199,
   "id": "f3ac94b6",
   "metadata": {},
   "outputs": [],
   "source": [
    "train_df['Age'] = train_df['Age'].fillna(train_df['Age'].median())"
   ]
  },
  {
   "cell_type": "markdown",
   "id": "9c929ee8",
   "metadata": {},
   "source": [
    "### Selection, Encoding and Preprocessing"
   ]
  },
  {
   "cell_type": "markdown",
   "id": "fd7c372f",
   "metadata": {},
   "source": [
    "#### Feature Selection "
   ]
  },
  {
   "cell_type": "code",
   "execution_count": 200,
   "id": "41972ac5",
   "metadata": {},
   "outputs": [
    {
     "data": {
      "text/plain": [
       "Index(['PassengerId', 'Survived', 'Pclass', 'Name', 'Sex', 'Age', 'SibSp',\n",
       "       'Parch', 'Ticket', 'Fare', 'Cabin', 'Embarked', 'Deck', 'Title',\n",
       "       'FamilySize', 'FamilyCategory'],\n",
       "      dtype='object')"
      ]
     },
     "execution_count": 200,
     "metadata": {},
     "output_type": "execute_result"
    }
   ],
   "source": [
    "train_df.columns"
   ]
  },
  {
   "cell_type": "markdown",
   "id": "b0ea549d",
   "metadata": {},
   "source": [
    "columns to be dropped because either they are not needed or we developed better versions of them\n",
    "- PassengerId\n",
    "- Name\n",
    "- Sibsp\n",
    "- Parch\n",
    "- Ticket\n",
    "- Fare\n",
    "- Cabin"
   ]
  },
  {
   "cell_type": "code",
   "execution_count": 201,
   "id": "5983d61c",
   "metadata": {},
   "outputs": [],
   "source": [
    "to_drop = ['Name', 'SibSp', 'Parch', 'Ticket', 'Fare', 'Cabin' ]\n",
    "train_df.drop(columns=to_drop, inplace=True)"
   ]
  },
  {
   "cell_type": "markdown",
   "id": "48040a16",
   "metadata": {},
   "source": [
    "#### Encoding Categorical Variables "
   ]
  },
  {
   "cell_type": "code",
   "execution_count": 202,
   "id": "f9ad76a2",
   "metadata": {},
   "outputs": [
    {
     "name": "stdout",
     "output_type": "stream",
     "text": [
      "<class 'pandas.core.frame.DataFrame'>\n",
      "RangeIndex: 891 entries, 0 to 890\n",
      "Data columns (total 10 columns):\n",
      " #   Column          Non-Null Count  Dtype   \n",
      "---  ------          --------------  -----   \n",
      " 0   PassengerId     891 non-null    int64   \n",
      " 1   Survived        891 non-null    int64   \n",
      " 2   Pclass          891 non-null    int64   \n",
      " 3   Sex             891 non-null    object  \n",
      " 4   Age             891 non-null    float64 \n",
      " 5   Embarked        891 non-null    object  \n",
      " 6   Deck            891 non-null    object  \n",
      " 7   Title           891 non-null    object  \n",
      " 8   FamilySize      891 non-null    int64   \n",
      " 9   FamilyCategory  891 non-null    category\n",
      "dtypes: category(1), float64(1), int64(4), object(4)\n",
      "memory usage: 63.8+ KB\n"
     ]
    }
   ],
   "source": [
    "train_df.info()"
   ]
  },
  {
   "cell_type": "markdown",
   "id": "a5d47061",
   "metadata": {},
   "source": [
    "Machine learning models can’t understand text, so you need to convert:\n",
    "\n",
    "- Sex, Embarked, Title, Deck, FamilyCategory into numerical form.\n",
    "- You can use pd.get_dummies() for one-hot encoding, or LabelEncoder if needed."
   ]
  },
  {
   "cell_type": "code",
   "execution_count": 203,
   "id": "9d6d2d85",
   "metadata": {},
   "outputs": [],
   "source": [
    "to_dummy = ['Sex', 'Embarked', 'Title', 'Deck', 'FamilyCategory']\n",
    "train_df = pd.get_dummies(train_df, columns=to_dummy, drop_first=True)"
   ]
  },
  {
   "cell_type": "code",
   "execution_count": 204,
   "id": "91263c61",
   "metadata": {},
   "outputs": [
    {
     "data": {
      "text/plain": [
       "Index(['PassengerId', 'Survived', 'Pclass', 'Age', 'FamilySize', 'Sex_male',\n",
       "       'Embarked_Q', 'Embarked_S', 'Title_Miss', 'Title_Mr', 'Title_Mrs',\n",
       "       'Title_Other', 'Deck_B', 'Deck_C', 'Deck_D', 'Deck_E', 'Deck_F',\n",
       "       'Deck_G', 'Deck_T', 'Deck_U', 'FamilyCategory_Small',\n",
       "       'FamilyCategory_Medium', 'FamilyCategory_Large'],\n",
       "      dtype='object')"
      ]
     },
     "execution_count": 204,
     "metadata": {},
     "output_type": "execute_result"
    }
   ],
   "source": [
    "train_df.columns"
   ]
  },
  {
   "cell_type": "markdown",
   "id": "d22408d3",
   "metadata": {},
   "source": [
    "#### Preprocessing Data"
   ]
  },
  {
   "cell_type": "code",
   "execution_count": null,
   "id": "2f8d9053",
   "metadata": {},
   "outputs": [],
   "source": [
    "from titanic_preprocessor import TitanicPreprocessor\n",
    "prep = TitanicPreprocessor()\n",
    "train_df = pd.read_csv('data/train.csv')\n",
    "train_df = prep.preprocess(train_df) # does the above feature engineering in a python file so that we don't have to repeat for the test data"
   ]
  },
  {
   "cell_type": "code",
   "execution_count": 206,
   "id": "64cd36b7",
   "metadata": {},
   "outputs": [
    {
     "name": "stdout",
     "output_type": "stream",
     "text": [
      "<class 'pandas.core.frame.DataFrame'>\n",
      "RangeIndex: 891 entries, 0 to 890\n",
      "Data columns (total 23 columns):\n",
      " #   Column                 Non-Null Count  Dtype  \n",
      "---  ------                 --------------  -----  \n",
      " 0   PassengerId            891 non-null    int64  \n",
      " 1   Survived               891 non-null    int64  \n",
      " 2   Pclass                 891 non-null    int64  \n",
      " 3   Age                    891 non-null    float64\n",
      " 4   FamilySize             891 non-null    int64  \n",
      " 5   Title_Miss             891 non-null    bool   \n",
      " 6   Title_Mr               891 non-null    bool   \n",
      " 7   Title_Mrs              891 non-null    bool   \n",
      " 8   Title_Other            891 non-null    bool   \n",
      " 9   Sex_male               891 non-null    bool   \n",
      " 10  Embarked_Q             891 non-null    bool   \n",
      " 11  Embarked_S             891 non-null    bool   \n",
      " 12  Deck_B                 891 non-null    bool   \n",
      " 13  Deck_C                 891 non-null    bool   \n",
      " 14  Deck_D                 891 non-null    bool   \n",
      " 15  Deck_E                 891 non-null    bool   \n",
      " 16  Deck_F                 891 non-null    bool   \n",
      " 17  Deck_G                 891 non-null    bool   \n",
      " 18  Deck_T                 891 non-null    bool   \n",
      " 19  Deck_U                 891 non-null    bool   \n",
      " 20  FamilyCategory_Small   891 non-null    bool   \n",
      " 21  FamilyCategory_Medium  891 non-null    bool   \n",
      " 22  FamilyCategory_Large   891 non-null    bool   \n",
      "dtypes: bool(18), float64(1), int64(4)\n",
      "memory usage: 50.6 KB\n"
     ]
    }
   ],
   "source": [
    "train_df.info()"
   ]
  },
  {
   "cell_type": "code",
   "execution_count": null,
   "id": "60987312",
   "metadata": {},
   "outputs": [
    {
     "name": "stdout",
     "output_type": "stream",
     "text": [
      "<class 'pandas.core.frame.DataFrame'>\n",
      "RangeIndex: 418 entries, 0 to 417\n",
      "Data columns (total 22 columns):\n",
      " #   Column                 Non-Null Count  Dtype  \n",
      "---  ------                 --------------  -----  \n",
      " 0   PassengerId            418 non-null    int64  \n",
      " 1   Pclass                 418 non-null    int64  \n",
      " 2   Age                    418 non-null    float64\n",
      " 3   FamilySize             418 non-null    int64  \n",
      " 4   Title_Master           418 non-null    bool   \n",
      " 5   Title_Miss             418 non-null    bool   \n",
      " 6   Title_Mr               418 non-null    bool   \n",
      " 7   Title_Mrs              418 non-null    bool   \n",
      " 8   Title_Other            418 non-null    bool   \n",
      " 9   Sex_male               418 non-null    bool   \n",
      " 10  Embarked_Q             418 non-null    bool   \n",
      " 11  Embarked_S             418 non-null    bool   \n",
      " 12  Deck_B                 418 non-null    bool   \n",
      " 13  Deck_C                 418 non-null    bool   \n",
      " 14  Deck_D                 418 non-null    bool   \n",
      " 15  Deck_E                 418 non-null    bool   \n",
      " 16  Deck_F                 418 non-null    bool   \n",
      " 17  Deck_G                 418 non-null    bool   \n",
      " 18  Deck_U                 418 non-null    bool   \n",
      " 19  FamilyCategory_Small   418 non-null    bool   \n",
      " 20  FamilyCategory_Medium  418 non-null    bool   \n",
      " 21  FamilyCategory_Large   418 non-null    bool   \n",
      "dtypes: bool(18), float64(1), int64(3)\n",
      "memory usage: 20.5 KB\n"
     ]
    }
   ],
   "source": [
    "prep2 = TitanicPreprocessor()\n",
    "test_df = pd.read_csv('data/test.csv')\n",
    "test_df = prep2.preprocess(test_df)\n",
    "test_df.info() # won't have 'Survived' column "
   ]
  },
  {
   "cell_type": "markdown",
   "id": "93239daa",
   "metadata": {},
   "source": [
    "### Base Model - Logistic Regression "
   ]
  },
  {
   "cell_type": "code",
   "execution_count": 208,
   "id": "f9834641",
   "metadata": {},
   "outputs": [],
   "source": [
    "from sklearn.model_selection import train_test_split\n",
    "\n",
    "train_x = train_df.drop(columns='Survived')\n",
    "train_y = train_df['Survived']"
   ]
  },
  {
   "cell_type": "code",
   "execution_count": 209,
   "id": "ca4f1ba7",
   "metadata": {},
   "outputs": [],
   "source": [
    "test_df = test_df.reindex(columns=train_df.columns, fill_value=0) # to ensure that testing data has the same features that our model has trained on "
   ]
  },
  {
   "cell_type": "code",
   "execution_count": 210,
   "id": "258bddc3",
   "metadata": {},
   "outputs": [
    {
     "name": "stderr",
     "output_type": "stream",
     "text": [
      "c:\\self-learn\\.venv\\Lib\\site-packages\\sklearn\\linear_model\\_logistic.py:465: ConvergenceWarning: lbfgs failed to converge (status=1):\n",
      "STOP: TOTAL NO. OF ITERATIONS REACHED LIMIT.\n",
      "\n",
      "Increase the number of iterations (max_iter) or scale the data as shown in:\n",
      "    https://scikit-learn.org/stable/modules/preprocessing.html\n",
      "Please also refer to the documentation for alternative solver options:\n",
      "    https://scikit-learn.org/stable/modules/linear_model.html#logistic-regression\n",
      "  n_iter_i = _check_optimize_result(\n"
     ]
    }
   ],
   "source": [
    "from sklearn.linear_model import LogisticRegression\n",
    "\n",
    "lr  = LogisticRegression(max_iter=1000)\n",
    "lr.fit(train_x, train_y)\n",
    "\n",
    "y_pred = lr.predict(test_df[train_x.columns])\n",
    "# This guarantees that your prediction data has only the exact same columns (in the same order) as your training data."
   ]
  },
  {
   "cell_type": "code",
   "execution_count": 211,
   "id": "680c45cf",
   "metadata": {},
   "outputs": [],
   "source": [
    "submission = pd.DataFrame({\n",
    "    'PassengerId': test_df['PassengerId'],\n",
    "    'Survived': y_pred # y_pred is a numpy arrays consisting of 0s and 1s \n",
    "})\n",
    "submission.to_csv('submission.csv', index=False)\n",
    "# 77.751% on kaggle\n"
   ]
  },
  {
   "cell_type": "code",
   "execution_count": 212,
   "id": "5baad497",
   "metadata": {},
   "outputs": [
    {
     "name": "stderr",
     "output_type": "stream",
     "text": [
      "c:\\self-learn\\.venv\\Lib\\site-packages\\sklearn\\linear_model\\_logistic.py:465: ConvergenceWarning: lbfgs failed to converge (status=1):\n",
      "STOP: TOTAL NO. OF ITERATIONS REACHED LIMIT.\n",
      "\n",
      "Increase the number of iterations (max_iter) or scale the data as shown in:\n",
      "    https://scikit-learn.org/stable/modules/preprocessing.html\n",
      "Please also refer to the documentation for alternative solver options:\n",
      "    https://scikit-learn.org/stable/modules/linear_model.html#logistic-regression\n",
      "  n_iter_i = _check_optimize_result(\n",
      "c:\\self-learn\\.venv\\Lib\\site-packages\\sklearn\\linear_model\\_logistic.py:465: ConvergenceWarning: lbfgs failed to converge (status=1):\n",
      "STOP: TOTAL NO. OF ITERATIONS REACHED LIMIT.\n",
      "\n",
      "Increase the number of iterations (max_iter) or scale the data as shown in:\n",
      "    https://scikit-learn.org/stable/modules/preprocessing.html\n",
      "Please also refer to the documentation for alternative solver options:\n",
      "    https://scikit-learn.org/stable/modules/linear_model.html#logistic-regression\n",
      "  n_iter_i = _check_optimize_result(\n",
      "c:\\self-learn\\.venv\\Lib\\site-packages\\sklearn\\linear_model\\_logistic.py:465: ConvergenceWarning: lbfgs failed to converge (status=1):\n",
      "STOP: TOTAL NO. OF ITERATIONS REACHED LIMIT.\n",
      "\n",
      "Increase the number of iterations (max_iter) or scale the data as shown in:\n",
      "    https://scikit-learn.org/stable/modules/preprocessing.html\n",
      "Please also refer to the documentation for alternative solver options:\n",
      "    https://scikit-learn.org/stable/modules/linear_model.html#logistic-regression\n",
      "  n_iter_i = _check_optimize_result(\n",
      "c:\\self-learn\\.venv\\Lib\\site-packages\\sklearn\\linear_model\\_logistic.py:465: ConvergenceWarning: lbfgs failed to converge (status=1):\n",
      "STOP: TOTAL NO. OF ITERATIONS REACHED LIMIT.\n",
      "\n",
      "Increase the number of iterations (max_iter) or scale the data as shown in:\n",
      "    https://scikit-learn.org/stable/modules/preprocessing.html\n",
      "Please also refer to the documentation for alternative solver options:\n",
      "    https://scikit-learn.org/stable/modules/linear_model.html#logistic-regression\n",
      "  n_iter_i = _check_optimize_result(\n"
     ]
    },
    {
     "name": "stdout",
     "output_type": "stream",
     "text": [
      "CV Accuracy:  0.8271608813006089\n"
     ]
    },
    {
     "name": "stderr",
     "output_type": "stream",
     "text": [
      "c:\\self-learn\\.venv\\Lib\\site-packages\\sklearn\\linear_model\\_logistic.py:465: ConvergenceWarning: lbfgs failed to converge (status=1):\n",
      "STOP: TOTAL NO. OF ITERATIONS REACHED LIMIT.\n",
      "\n",
      "Increase the number of iterations (max_iter) or scale the data as shown in:\n",
      "    https://scikit-learn.org/stable/modules/preprocessing.html\n",
      "Please also refer to the documentation for alternative solver options:\n",
      "    https://scikit-learn.org/stable/modules/linear_model.html#logistic-regression\n",
      "  n_iter_i = _check_optimize_result(\n"
     ]
    }
   ],
   "source": [
    "# evaluate the model\n",
    "\n",
    "from sklearn.model_selection import cross_val_score\n",
    "\n",
    "scores = cross_val_score(lr, train_x, train_y, cv=5)\n",
    "print(\"CV Accuracy: \", scores.mean())\n",
    "# CV Accuracy:  0.8271608813006089"
   ]
  },
  {
   "cell_type": "markdown",
   "id": "e288c220",
   "metadata": {},
   "source": [
    "### Improving"
   ]
  },
  {
   "cell_type": "markdown",
   "id": "bbe4a6f5",
   "metadata": {},
   "source": [
    "#### Scaling and Converging "
   ]
  },
  {
   "cell_type": "markdown",
   "id": "3467ff67",
   "metadata": {},
   "source": [
    "we got a bunch of warnings while calculating the CV score. the warning means that the optimization algorithm (default:lbfgs) hit the max number of iteration (1000) before the loss function fully converged \n",
    "\n",
    "solutions:\n",
    "1. standardize input features because many ml models (especially logistic regression) perform better and converge faster when featuires are scaled to a similar range - normalization \n",
    "2. increase max iterations (especially when you're just starting out) but this just delays the problem, scaling is the better fix \n",
    "3. if for some reason lbfgs continue to fail even after scaling, use `saga` or `liblinear`\n",
    "\n",
    "+ the attached passenger id may be casuing trouble, we can attach it later, after the fitting and prediction (it may cause issue because of it having a much bigger range than age or family size)\n"
   ]
  },
  {
   "cell_type": "code",
   "execution_count": 213,
   "id": "76562303",
   "metadata": {},
   "outputs": [],
   "source": [
    "#1. Drop passenger id (not from the main dataframe)\n",
    "\n",
    "# train_x is the processed train_df with the 'survived' column dropped\n",
    "# train_x_model is the train_x with 'passengerID' dropped \n",
    "# made a copy so as to not lose passenger id from the original train_x \n",
    "\n",
    "train_x_model  = train_x.drop(columns=['PassengerId'])\n",
    "train_y = train_df['Survived']\n",
    "\n",
    "# test _df is also processed containing passengerID and has no 'survived' column\n",
    "test_x_model = test_df[train_x_model.columns]\n",
    "# to make sure testing has same columns as training"
   ]
  },
  {
   "cell_type": "code",
   "execution_count": 214,
   "id": "0ab77916",
   "metadata": {},
   "outputs": [],
   "source": [
    "#2. Fit and Predict \n",
    "\n",
    "# boolean values will be treated as 0 and 1 so no issue in scaling \n",
    "from sklearn.preprocessing import StandardScaler\n",
    "from sklearn.linear_model import LogisticRegression\n",
    "\n",
    "scaler = StandardScaler()\n",
    "model  = LogisticRegression(C=0.1, max_iter=1000)\n",
    "# C is regularization strength - preventing model from learning patterns that are too specific to training data\n",
    "# lower c = more regularization \n",
    "# higher c = less regularization (model fits training data more), which we don't want \n",
    "# this is hyperparamter tuning\n",
    "\n",
    "train_x_scaled = scaler.fit_transform(train_x_model)\n",
    "test_x_scaled = scaler.transform(test_x_model)\n",
    "\n",
    "model.fit(train_x_scaled, train_y)\n",
    "\n",
    "y_pred = model.predict(test_x_scaled)"
   ]
  },
  {
   "cell_type": "code",
   "execution_count": 215,
   "id": "51cf7c86",
   "metadata": {},
   "outputs": [
    {
     "name": "stdout",
     "output_type": "stream",
     "text": [
      "CV Accuracy:  0.8294143493817085\n"
     ]
    }
   ],
   "source": [
    "#3. Check the CV score now \n",
    "\n",
    "from sklearn.model_selection import cross_val_score\n",
    "\n",
    "scores = cross_val_score(model, train_x_scaled, train_y, cv=5)\n",
    "print(\"CV Accuracy: \", scores.mean())"
   ]
  },
  {
   "cell_type": "markdown",
   "id": "3852a744",
   "metadata": {},
   "source": [
    "scaling (a type of normalization) didn't really impact the accuracy score because:\n",
    "- scaling helps optimization, meaning helping the loss function to converge (which it did)\n",
    "- scaling prevents convergence issues but won't necessarily increase accuracy "
   ]
  },
  {
   "cell_type": "markdown",
   "id": "17ea8c9f",
   "metadata": {},
   "source": [
    "you can easily see above that the previous warning of not converging in 1000 iterations has been fixed, meaning, the loss function did converge and we did not have to increase the number of iterations, so yay!\n",
    "\n",
    "more about cv=5:\n",
    "- Split the training data into 5 equal-sized folds (or as equal as possible)\n",
    "- For each iteration, use 4 folds for training and 1 remaining fold for validation\n",
    "- Repeat this process in total 5 times, so that each fold serves as the validation set exactly once \n",
    "- Record the accuracy (or whatever metric you choose) for each run\n",
    "- Take the mean of these 5 scores to get the overall cross-validated accuracy\n",
    "\n",
    "cross validation is a better estimate of your model’s performance than a single train-test split, because:\n",
    "- It reduces the impact of chance (e.g., unlucky splits)\n",
    "- It shows how stable your model is across different data slices"
   ]
  },
  {
   "cell_type": "markdown",
   "id": "ce1781fd",
   "metadata": {},
   "source": [
    "#### Decision Tree"
   ]
  },
  {
   "cell_type": "code",
   "execution_count": 216,
   "id": "5e45878a",
   "metadata": {},
   "outputs": [
    {
     "name": "stdout",
     "output_type": "stream",
     "text": [
      "CV Accuracy (Decision Tree):  0.7991274872889336\n"
     ]
    }
   ],
   "source": [
    "from sklearn.tree import DecisionTreeClassifier\n",
    "from sklearn.model_selection import cross_val_score\n",
    "\n",
    "dt_model = DecisionTreeClassifier(random_state=42)\n",
    "dt_model.fit(train_x_scaled, train_y)\n",
    "\n",
    "# Evealute using cross-validation\n",
    "scores = cross_val_score(dt_model, train_x_scaled, train_y, cv=5)\n",
    "print(\"CV Accuracy (Decision Tree): \", scores.mean()) "
   ]
  },
  {
   "cell_type": "markdown",
   "id": "0017ea6f",
   "metadata": {},
   "source": [
    "#### Random Forest "
   ]
  },
  {
   "cell_type": "code",
   "execution_count": 217,
   "id": "98baf6ac",
   "metadata": {},
   "outputs": [
    {
     "name": "stdout",
     "output_type": "stream",
     "text": [
      "CV Accuracy (Random Forest):  0.8047266336074321\n"
     ]
    }
   ],
   "source": [
    "from sklearn.ensemble import RandomForestClassifier\n",
    "\n",
    "rf = RandomForestClassifier(n_estimators=100, random_state=42)\n",
    "rf.fit(train_x_scaled, train_y)\n",
    "\n",
    "# Evaluate using cross-validation\n",
    "scores = cross_val_score(rf, train_x_scaled, train_y, cv=5)\n",
    "print(\"CV Accuracy (Random Forest): \", scores.mean())"
   ]
  },
  {
   "cell_type": "markdown",
   "id": "a6537d73",
   "metadata": {},
   "source": [
    "#### Gradient Boosting (XGBoost)"
   ]
  },
  {
   "cell_type": "code",
   "execution_count": 218,
   "id": "e4bbdf62",
   "metadata": {},
   "outputs": [
    {
     "name": "stdout",
     "output_type": "stream",
     "text": [
      "CV Accuracy (XGBoost):  0.815956311593748\n"
     ]
    }
   ],
   "source": [
    "import xgboost as xgb\n",
    "from sklearn.model_selection import cross_val_score\n",
    "\n",
    "xg = xgb.XGBClassifier(random_state=42, eval_metric='logloss')\n",
    "xg.fit(train_x_scaled, train_y)\n",
    "\n",
    "# Evaluate using cross-validation\n",
    "scores = cross_val_score(xg, train_x_scaled, train_y, cv=5)\n",
    "print(\"CV Accuracy (XGBoost): \", scores.mean())\n"
   ]
  },
  {
   "cell_type": "markdown",
   "id": "36d1e6bd",
   "metadata": {},
   "source": [
    "#### Ensemble Methods (Stacking)"
   ]
  },
  {
   "cell_type": "code",
   "execution_count": 219,
   "id": "f5f44f01",
   "metadata": {},
   "outputs": [
    {
     "name": "stdout",
     "output_type": "stream",
     "text": [
      "CV Accuracy (Ensemble):  0.8271671583704727\n"
     ]
    }
   ],
   "source": [
    "from sklearn.ensemble import VotingClassifier\n",
    "from sklearn.linear_model import LogisticRegression\n",
    "from sklearn.ensemble import RandomForestClassifier\n",
    "import xgboost as xgb\n",
    "\n",
    "logreg = LogisticRegression(max_iter=1000, C=0.5)\n",
    "rf = RandomForestClassifier(n_estimators=100)\n",
    "xg = xgb.XGBClassifier(random_state=42, eval_metric='logloss')\n",
    "\n",
    "ensemble = VotingClassifier(estimators=[('logreg', logreg), ('rf', rf), ('xg', xg)], voting='soft')\n",
    "ensemble.fit(train_x_scaled, train_y)\n",
    "\n",
    "# Evaluate using cross-validation\n",
    "scores = cross_val_score(ensemble, train_x_scaled, train_y, cv=5)\n",
    "print(\"CV Accuracy (Ensemble): \", scores.mean())\n"
   ]
  },
  {
   "cell_type": "markdown",
   "id": "24e55696",
   "metadata": {},
   "source": [
    "#### Stratified K-Fold Evaluation"
   ]
  },
  {
   "cell_type": "code",
   "execution_count": 220,
   "id": "c66cf4e8",
   "metadata": {},
   "outputs": [
    {
     "name": "stdout",
     "output_type": "stream",
     "text": [
      "CV Accuracy (StratifiedKFold):  0.8305128366078713\n"
     ]
    }
   ],
   "source": [
    "from sklearn.model_selection import StratifiedKFold\n",
    "from sklearn.linear_model import LogisticRegression\n",
    "\n",
    "stratified_kfold = StratifiedKFold(n_splits=5, shuffle=True, random_state=42)\n",
    "scores = cross_val_score(LogisticRegression(max_iter=1000), train_x_scaled, train_y, cv=stratified_kfold)\n",
    "print(\"CV Accuracy (StratifiedKFold): \", scores.mean())\n"
   ]
  },
  {
   "cell_type": "markdown",
   "id": "e1e6a629",
   "metadata": {},
   "source": [
    "#### RF with GridSearch CV "
   ]
  },
  {
   "cell_type": "code",
   "execution_count": 221,
   "id": "a3892b9d",
   "metadata": {},
   "outputs": [
    {
     "name": "stdout",
     "output_type": "stream",
     "text": [
      "Best Random Forest Parameters:  {'n_estimators': 200, 'min_samples_split': 10, 'max_depth': 10}\n"
     ]
    }
   ],
   "source": [
    "from sklearn.model_selection import RandomizedSearchCV\n",
    "from sklearn.ensemble import RandomForestClassifier\n",
    "\n",
    "rf = RandomForestClassifier()\n",
    "\n",
    "param_grid = {\n",
    "    'n_estimators': [100, 200, 300],\n",
    "    'max_depth': [None, 10, 20],\n",
    "    'min_samples_split': [2, 5, 10]\n",
    "}\n",
    "\n",
    "random_search = RandomizedSearchCV(rf, param_distributions=param_grid, n_iter=10, random_state=42, cv=5)\n",
    "random_search.fit(train_x_scaled, train_y)\n",
    "print(\"Best Random Forest Parameters: \", random_search.best_params_)\n"
   ]
  },
  {
   "cell_type": "code",
   "execution_count": 222,
   "id": "20855f3d",
   "metadata": {},
   "outputs": [
    {
     "name": "stdout",
     "output_type": "stream",
     "text": [
      "Manual CV Accuracy (best model): 0.8316678174628084\n",
      "All fold scores: [0.81564246 0.82022472 0.85955056 0.80337079 0.85955056]\n"
     ]
    }
   ],
   "source": [
    "best_rf = random_search.best_estimator_\n",
    "# best estimators gives you the actual trained RandomForestClassifier with the best combo of hyperparamters found during the search\n",
    "\n",
    "scores = cross_val_score(best_rf, train_x_scaled, train_y, cv=5)\n",
    "\n",
    "print(\"Manual CV Accuracy (best model):\", scores.mean())\n",
    "print(\"All fold scores:\", scores)\n"
   ]
  },
  {
   "cell_type": "code",
   "execution_count": 223,
   "id": "4cdb3d3c",
   "metadata": {},
   "outputs": [],
   "source": [
    "#4. Create a submission file with passengerID\n",
    "y_pred = best_rf.predict(test_x_scaled)\n",
    "\n",
    "submission2 = pd.DataFrame({\n",
    "    'PassengerId': test_df['PassengerId'],\n",
    "    'Survived': y_pred\n",
    "})\n",
    "\n",
    "submission2.to_csv('submission2.csv', index=False)\n"
   ]
  },
  {
   "cell_type": "markdown",
   "id": "42ab85b7",
   "metadata": {},
   "source": [
    "highest score achived using rf with grid search cv - 78.46 on kaggle "
   ]
  },
  {
   "cell_type": "markdown",
   "id": "e067c01e",
   "metadata": {},
   "source": [
    "### Conclusion"
   ]
  },
  {
   "cell_type": "markdown",
   "id": "83ba9016",
   "metadata": {},
   "source": [
    "**Logistic regression is surprisingly strong for Titanic (77.75%)**\n",
    "* Since the dataset has strong linearly separable features like Sex, Pclass, Title, and FamilySize, which Logistic Regression handles well.\n",
    "* scaling, encoding, and feature engineering are clearly working."
   ]
  }
 ],
 "metadata": {
  "kernelspec": {
   "display_name": ".venv",
   "language": "python",
   "name": "python3"
  },
  "language_info": {
   "codemirror_mode": {
    "name": "ipython",
    "version": 3
   },
   "file_extension": ".py",
   "mimetype": "text/x-python",
   "name": "python",
   "nbconvert_exporter": "python",
   "pygments_lexer": "ipython3",
   "version": "3.13.2"
  }
 },
 "nbformat": 4,
 "nbformat_minor": 5
}
